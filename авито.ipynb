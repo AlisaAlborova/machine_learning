{
  "nbformat": 4,
  "nbformat_minor": 0,
  "metadata": {
    "kernelspec": {
      "display_name": "Python 2",
      "language": "python",
      "name": "python2"
    },
    "language_info": {
      "codemirror_mode": {
        "name": "ipython",
        "version": 2
      },
      "file_extension": ".py",
      "mimetype": "text/x-python",
      "name": "python",
      "nbconvert_exporter": "python",
      "pygments_lexer": "ipython2",
      "version": "2.7.15"
    },
    "colab": {
      "provenance": [],
      "collapsed_sections": []
    }
  },
  "cells": [
    {
      "cell_type": "markdown",
      "metadata": {
        "id": "jswEaGtnzTTB"
      },
      "source": [
        "# Baseline"
      ]
    },
    {
      "cell_type": "markdown",
      "metadata": {
        "id": "dTgl7aUAzTTD"
      },
      "source": [
        "В конкурсе представлены реальные данные объявлений о продаже товаров с сайта Avito.\n",
        "Сылка на датасет: \n",
        "https://www.kaggle.com/datasets/vitaliy3000/avito-dataset\n",
        "\n",
        "Для удобства пользователей каждое объявление размещается в одной из категорий в зависимости от типа продаваемого товара. \n",
        "\n",
        "Всего в выборке 50 различных категорий.\n",
        "\n",
        "Вам предлагается построить алгоритм, который на основе текстов объявлений будет предсказывать категорию товара.\n",
        "\n",
        "\n",
        "\n"
      ]
    },
    {
      "cell_type": "markdown",
      "metadata": {
        "id": "y8qMWiujzTTE"
      },
      "source": [
        "Загрузим данные и посмотрим на них"
      ]
    },
    {
      "cell_type": "code",
      "metadata": {
        "id": "FqLlppguzTTF"
      },
      "source": [
        "import pandas as pd"
      ],
      "execution_count": null,
      "outputs": []
    },
    {
      "cell_type": "code",
      "metadata": {
        "id": "nxIowQlMzTTI"
      },
      "source": [
        "Train = pd.read_csv('train.csv')"
      ],
      "execution_count": null,
      "outputs": []
    },
    {
      "cell_type": "code",
      "metadata": {
        "id": "-psFkvIEzTTK"
      },
      "source": [
        "Test = pd.read_csv('test.csv')"
      ],
      "execution_count": null,
      "outputs": []
    },
    {
      "cell_type": "code",
      "metadata": {
        "id": "MpzfEoS-zTTM",
        "outputId": "cf340d57-09e3-4ba8-dffd-f47f21c9e6bf"
      },
      "source": [
        "Train.head()"
      ],
      "execution_count": null,
      "outputs": [
        {
          "output_type": "execute_result",
          "data": {
            "text/html": [
              "<div>\n",
              "<style scoped>\n",
              "    .dataframe tbody tr th:only-of-type {\n",
              "        vertical-align: middle;\n",
              "    }\n",
              "\n",
              "    .dataframe tbody tr th {\n",
              "        vertical-align: top;\n",
              "    }\n",
              "\n",
              "    .dataframe thead th {\n",
              "        text-align: right;\n",
              "    }\n",
              "</style>\n",
              "<table border=\"1\" class=\"dataframe\">\n",
              "  <thead>\n",
              "    <tr style=\"text-align: right;\">\n",
              "      <th></th>\n",
              "      <th>title</th>\n",
              "      <th>description</th>\n",
              "      <th>Category_name</th>\n",
              "      <th>Category</th>\n",
              "    </tr>\n",
              "  </thead>\n",
              "  <tbody>\n",
              "    <tr>\n",
              "      <th>0</th>\n",
              "      <td>Эбу Renault / Nissan 1,5 DCI Delphi 2001-2008 год</td>\n",
              "      <td>Комплект ЭБУ (мозги, компьютер мотора, двигате...</td>\n",
              "      <td>Запчасти и аксессуары</td>\n",
              "      <td>10</td>\n",
              "    </tr>\n",
              "    <tr>\n",
              "      <th>1</th>\n",
              "      <td>Утюг утп 1000 ватт СССР 1987 год</td>\n",
              "      <td>Продам/\\n Фото № 1-2 /\\n /\\nУтюг УТП 1000 ватт...</td>\n",
              "      <td>Бытовая техника</td>\n",
              "      <td>21</td>\n",
              "    </tr>\n",
              "    <tr>\n",
              "      <th>2</th>\n",
              "      <td>Возвму машину с выкупом</td>\n",
              "      <td>Возьму машину в аренду с последующим выкупом н...</td>\n",
              "      <td>Предложение услуг</td>\n",
              "      <td>114</td>\n",
              "    </tr>\n",
              "    <tr>\n",
              "      <th>3</th>\n",
              "      <td>Полусапожки</td>\n",
              "      <td>полусапожки в отличном состоянии, один раз оде...</td>\n",
              "      <td>Одежда, обувь, аксессуары</td>\n",
              "      <td>27</td>\n",
              "    </tr>\n",
              "    <tr>\n",
              "      <th>4</th>\n",
              "      <td>Босоножки кожаные</td>\n",
              "      <td>Кожаные(натур) босоножки Karlo Pasolini, 40 рр...</td>\n",
              "      <td>Одежда, обувь, аксессуары</td>\n",
              "      <td>27</td>\n",
              "    </tr>\n",
              "  </tbody>\n",
              "</table>\n",
              "</div>"
            ],
            "text/plain": [
              "                                               title  \\\n",
              "0  Эбу Renault / Nissan 1,5 DCI Delphi 2001-2008 год   \n",
              "1                   Утюг утп 1000 ватт СССР 1987 год   \n",
              "2                            Возвму машину с выкупом   \n",
              "3                                        Полусапожки   \n",
              "4                                  Босоножки кожаные   \n",
              "\n",
              "                                         description  \\\n",
              "0  Комплект ЭБУ (мозги, компьютер мотора, двигате...   \n",
              "1  Продам/\\n Фото № 1-2 /\\n /\\nУтюг УТП 1000 ватт...   \n",
              "2  Возьму машину в аренду с последующим выкупом н...   \n",
              "3  полусапожки в отличном состоянии, один раз оде...   \n",
              "4  Кожаные(натур) босоножки Karlo Pasolini, 40 рр...   \n",
              "\n",
              "               Category_name  Category  \n",
              "0      Запчасти и аксессуары        10  \n",
              "1            Бытовая техника        21  \n",
              "2          Предложение услуг       114  \n",
              "3  Одежда, обувь, аксессуары        27  \n",
              "4  Одежда, обувь, аксессуары        27  "
            ]
          },
          "metadata": {
            "tags": []
          },
          "execution_count": 32
        }
      ]
    },
    {
      "cell_type": "code",
      "metadata": {
        "id": "KOhFgWmmzTTP",
        "outputId": "6c7bddb3-9e71-43b7-a294-009eb529411f"
      },
      "source": [
        "Test.head()"
      ],
      "execution_count": null,
      "outputs": [
        {
          "output_type": "execute_result",
          "data": {
            "text/html": [
              "<div>\n",
              "<style scoped>\n",
              "    .dataframe tbody tr th:only-of-type {\n",
              "        vertical-align: middle;\n",
              "    }\n",
              "\n",
              "    .dataframe tbody tr th {\n",
              "        vertical-align: top;\n",
              "    }\n",
              "\n",
              "    .dataframe thead th {\n",
              "        text-align: right;\n",
              "    }\n",
              "</style>\n",
              "<table border=\"1\" class=\"dataframe\">\n",
              "  <thead>\n",
              "    <tr style=\"text-align: right;\">\n",
              "      <th></th>\n",
              "      <th>title</th>\n",
              "      <th>description</th>\n",
              "      <th>itemid</th>\n",
              "      <th>title&amp;description</th>\n",
              "    </tr>\n",
              "  </thead>\n",
              "  <tbody>\n",
              "    <tr>\n",
              "      <th>0</th>\n",
              "      <td>Мастерка</td>\n",
              "      <td>Мастерка фирмы форвард. Белого цвета. В идеаль...</td>\n",
              "      <td>1778449823</td>\n",
              "      <td>Мастерка Мастерка фирмы форвард. Белого цвета....</td>\n",
              "    </tr>\n",
              "    <tr>\n",
              "      <th>1</th>\n",
              "      <td>Зимние сапоги</td>\n",
              "      <td>Продаю зимние сапоги, в хорошем состоянии, все...</td>\n",
              "      <td>1677656962</td>\n",
              "      <td>Зимние сапоги Продаю зимние сапоги, в хорошем ...</td>\n",
              "    </tr>\n",
              "    <tr>\n",
              "      <th>2</th>\n",
              "      <td>Видеонаблюдение 8 камер</td>\n",
              "      <td>В комплект Atis AMD-2MIR-8kit входит: /\\n1. Ку...</td>\n",
              "      <td>1758182804</td>\n",
              "      <td>Видеонаблюдение 8 камер В комплект Atis AMD-2M...</td>\n",
              "    </tr>\n",
              "    <tr>\n",
              "      <th>3</th>\n",
              "      <td>Запчасти для GLE</td>\n",
              "      <td>Запчасти GLE</td>\n",
              "      <td>1689811299</td>\n",
              "      <td>Запчасти для GLE Запчасти GLE</td>\n",
              "    </tr>\n",
              "    <tr>\n",
              "      <th>4</th>\n",
              "      <td>Бластер nerf</td>\n",
              "      <td>Состояние 5+/\\nПродаю потому что не нужен/\\n18...</td>\n",
              "      <td>1804706240</td>\n",
              "      <td>Бластер nerf Состояние 5+/\\nПродаю потому что ...</td>\n",
              "    </tr>\n",
              "  </tbody>\n",
              "</table>\n",
              "</div>"
            ],
            "text/plain": [
              "                     title                                        description  \\\n",
              "0                 Мастерка  Мастерка фирмы форвард. Белого цвета. В идеаль...   \n",
              "1            Зимние сапоги  Продаю зимние сапоги, в хорошем состоянии, все...   \n",
              "2  Видеонаблюдение 8 камер  В комплект Atis AMD-2MIR-8kit входит: /\\n1. Ку...   \n",
              "3         Запчасти для GLE                                       Запчасти GLE   \n",
              "4             Бластер nerf  Состояние 5+/\\nПродаю потому что не нужен/\\n18...   \n",
              "\n",
              "       itemid                                  title&description  \n",
              "0  1778449823  Мастерка Мастерка фирмы форвард. Белого цвета....  \n",
              "1  1677656962  Зимние сапоги Продаю зимние сапоги, в хорошем ...  \n",
              "2  1758182804  Видеонаблюдение 8 камер В комплект Atis AMD-2M...  \n",
              "3  1689811299                      Запчасти для GLE Запчасти GLE  \n",
              "4  1804706240  Бластер nerf Состояние 5+/\\nПродаю потому что ...  "
            ]
          },
          "metadata": {
            "tags": []
          },
          "execution_count": 50
        }
      ]
    },
    {
      "cell_type": "code",
      "metadata": {
        "id": "3bJC9-7NzTTR",
        "outputId": "8fbc92ea-9e7b-4a55-8ea8-10bb206b6ce7"
      },
      "source": [
        "Train.isnull().sum()"
      ],
      "execution_count": null,
      "outputs": [
        {
          "output_type": "execute_result",
          "data": {
            "text/plain": [
              "title            0\n",
              "description      2\n",
              "Category_name    0\n",
              "Category         0\n",
              "dtype: int64"
            ]
          },
          "metadata": {
            "tags": []
          },
          "execution_count": 33
        }
      ]
    },
    {
      "cell_type": "code",
      "metadata": {
        "id": "9vjcJYHhzTTT",
        "outputId": "007b9f36-d02c-4a7c-af17-7fd383a1255a"
      },
      "source": [
        "Test.isnull().sum()"
      ],
      "execution_count": null,
      "outputs": [
        {
          "output_type": "execute_result",
          "data": {
            "text/plain": [
              "title          0\n",
              "description    1\n",
              "itemid         0\n",
              "dtype: int64"
            ]
          },
          "metadata": {
            "tags": []
          },
          "execution_count": 47
        }
      ]
    },
    {
      "cell_type": "markdown",
      "metadata": {
        "id": "6sjVhrkEzTTV"
      },
      "source": [
        "Видно, что есть объекты с пропуском в текстовом поле `description`. Заменим пропуски на пустую строку"
      ]
    },
    {
      "cell_type": "code",
      "metadata": {
        "id": "TDfy-MkMzTTW"
      },
      "source": [
        "Train.fillna('', inplace=True)"
      ],
      "execution_count": null,
      "outputs": []
    },
    {
      "cell_type": "code",
      "metadata": {
        "id": "dGrrbIrCzTTY"
      },
      "source": [
        "Test.fillna('', inplace=True)"
      ],
      "execution_count": null,
      "outputs": []
    },
    {
      "cell_type": "markdown",
      "metadata": {
        "id": "xEX_nSkxzTTZ"
      },
      "source": [
        "Для простоты конкатенируем строки из полей `title` и `description`"
      ]
    },
    {
      "cell_type": "code",
      "metadata": {
        "id": "Yf6MtmXCzTTa"
      },
      "source": [
        "Train['title&description'] = Train['title'].str[:] + ' ' + Train['description'].str[:]"
      ],
      "execution_count": null,
      "outputs": []
    },
    {
      "cell_type": "code",
      "metadata": {
        "id": "peOAoWe9zTTc"
      },
      "source": [
        "Test['title&description'] = Test['title'].str[:] + ' ' + Test['description'].str[:]"
      ],
      "execution_count": null,
      "outputs": []
    },
    {
      "cell_type": "markdown",
      "metadata": {
        "id": "VEeh5YvlzTTe"
      },
      "source": [
        "Разделим выборку ```Train``` на обучающую и тестовую"
      ]
    },
    {
      "cell_type": "code",
      "metadata": {
        "id": "pYbDlKayzTTf"
      },
      "source": [
        "from sklearn.model_selection import train_test_split\n",
        "\n",
        "X_train, X_test, y_train, y_test = train_test_split(Train[['title&description']], Train['Category'])\n"
      ],
      "execution_count": null,
      "outputs": []
    },
    {
      "cell_type": "markdown",
      "metadata": {
        "id": "gIecaEAhzTTg"
      },
      "source": [
        "Применим ```Tfidf``` преобразование к текстам, чтобы получить признаковое описание каждого объявления"
      ]
    },
    {
      "cell_type": "code",
      "metadata": {
        "id": "ujZOQjy3zTTh"
      },
      "source": [
        "from sklearn.feature_extraction.text import TfidfVectorizer"
      ],
      "execution_count": null,
      "outputs": []
    },
    {
      "cell_type": "code",
      "metadata": {
        "id": "o1t1JDiYzTTi",
        "outputId": "b6533b39-5140-478a-8acb-0765f035be3a"
      },
      "source": [
        "tf_idf = TfidfVectorizer()\n",
        "tf_idf.fit(X_train['title&description'])"
      ],
      "execution_count": null,
      "outputs": [
        {
          "output_type": "execute_result",
          "data": {
            "text/plain": [
              "TfidfVectorizer(analyzer=u'word', binary=False, decode_error=u'strict',\n",
              "        dtype=<type 'numpy.float64'>, encoding=u'utf-8', input=u'content',\n",
              "        lowercase=True, max_df=1.0, max_features=None, min_df=1,\n",
              "        ngram_range=(1, 1), norm=u'l2', preprocessor=None, smooth_idf=True,\n",
              "        stop_words=None, strip_accents=None, sublinear_tf=False,\n",
              "        token_pattern=u'(?u)\\\\b\\\\w\\\\w+\\\\b', tokenizer=None, use_idf=True,\n",
              "        vocabulary=None)"
            ]
          },
          "metadata": {
            "tags": []
          },
          "execution_count": 38
        }
      ]
    },
    {
      "cell_type": "code",
      "metadata": {
        "id": "ZFXOw303zTTk"
      },
      "source": [
        "X_train_tf_idf = tf_idf.transform(X_train['title&description'])\n",
        "X_test_tf_idf = tf_idf.transform(X_test['title&description'])"
      ],
      "execution_count": null,
      "outputs": []
    },
    {
      "cell_type": "markdown",
      "metadata": {
        "id": "TfE8JdHFzTTm"
      },
      "source": [
        "Посмотрим на полученные размеры матриц объекты-признаки"
      ]
    },
    {
      "cell_type": "code",
      "metadata": {
        "id": "rtJ_h4D6zTTn",
        "outputId": "362148ab-4081-4b0c-8439-9e97c1a06f37"
      },
      "source": [
        "X_train_tf_idf.shape"
      ],
      "execution_count": null,
      "outputs": [
        {
          "output_type": "execute_result",
          "data": {
            "text/plain": [
              "(3175531, 1785706)"
            ]
          },
          "metadata": {
            "tags": []
          },
          "execution_count": 40
        }
      ]
    },
    {
      "cell_type": "code",
      "metadata": {
        "id": "0Qa63Ko_zTTp",
        "outputId": "a0182fcc-b992-40f8-d38c-9a4ebed74c7a"
      },
      "source": [
        "X_test_tf_idf.shape"
      ],
      "execution_count": null,
      "outputs": [
        {
          "output_type": "execute_result",
          "data": {
            "text/plain": [
              "(1058511, 1785706)"
            ]
          },
          "metadata": {
            "tags": []
          },
          "execution_count": 41
        }
      ]
    },
    {
      "cell_type": "markdown",
      "metadata": {
        "id": "2NYlcG3FzTTr"
      },
      "source": [
        "Обучим линейный классификатор на полученных данных"
      ]
    },
    {
      "cell_type": "code",
      "metadata": {
        "id": "vCH_e5vgzTTr"
      },
      "source": [
        "from sklearn.linear_model import SGDClassifier\n",
        "from sklearn.metrics import accuracy_score"
      ],
      "execution_count": null,
      "outputs": []
    },
    {
      "cell_type": "code",
      "metadata": {
        "id": "IR_szhGOzTTu",
        "outputId": "1a6b6b12-0ac5-485b-8584-e63134a27ec0"
      },
      "source": [
        "clf = SGDClassifier()\n",
        "clf.fit(X_train_tf_idf, y_train)\n"
      ],
      "execution_count": null,
      "outputs": [
        {
          "output_type": "stream",
          "text": [
            "/Users/aarysmyatova/anaconda2/lib/python2.7/site-packages/sklearn/linear_model/stochastic_gradient.py:166: FutureWarning: max_iter and tol parameters have been added in SGDClassifier in 0.19. If both are left unset, they default to max_iter=5 and tol=None. If tol is not None, max_iter defaults to max_iter=1000. From 0.21, default max_iter will be 1000, and default tol will be 1e-3.\n",
            "  FutureWarning)\n"
          ],
          "name": "stderr"
        },
        {
          "output_type": "execute_result",
          "data": {
            "text/plain": [
              "SGDClassifier(alpha=0.0001, average=False, class_weight=None,\n",
              "       early_stopping=False, epsilon=0.1, eta0=0.0, fit_intercept=True,\n",
              "       l1_ratio=0.15, learning_rate='optimal', loss='hinge', max_iter=None,\n",
              "       n_iter=None, n_iter_no_change=5, n_jobs=None, penalty='l2',\n",
              "       power_t=0.5, random_state=None, shuffle=True, tol=None,\n",
              "       validation_fraction=0.1, verbose=0, warm_start=False)"
            ]
          },
          "metadata": {
            "tags": []
          },
          "execution_count": 44
        }
      ]
    },
    {
      "cell_type": "markdown",
      "metadata": {
        "id": "5AmDZ0OSzTTy"
      },
      "source": [
        "Посчитаем качество предсказания по метрике ``Accuracy``"
      ]
    },
    {
      "cell_type": "code",
      "metadata": {
        "id": "X2abR7JFzTTy",
        "outputId": "1c8d2459-cb93-4d88-87b1-a07ef4518e11"
      },
      "source": [
        "accuracy_score(y_test, clf.predict(X_test_tf_idf))"
      ],
      "execution_count": null,
      "outputs": [
        {
          "output_type": "execute_result",
          "data": {
            "text/plain": [
              "0.8473346049308887"
            ]
          },
          "metadata": {
            "tags": []
          },
          "execution_count": 46
        }
      ]
    },
    {
      "cell_type": "markdown",
      "metadata": {
        "id": "2Bedd-evzTT0"
      },
      "source": [
        "Подготовим файл с предсказаниями категорий для `Test.csv` "
      ]
    },
    {
      "cell_type": "code",
      "metadata": {
        "id": "8LM3W2YHzTT1",
        "outputId": "0f13ba5d-64be-436e-a643-b884ef989753"
      },
      "source": [
        "tf_idf = TfidfVectorizer()\n",
        "tf_idf.fit(Train['title&description'])"
      ],
      "execution_count": null,
      "outputs": [
        {
          "output_type": "execute_result",
          "data": {
            "text/plain": [
              "TfidfVectorizer(analyzer=u'word', binary=False, decode_error=u'strict',\n",
              "        dtype=<type 'numpy.float64'>, encoding=u'utf-8', input=u'content',\n",
              "        lowercase=True, max_df=1.0, max_features=None, min_df=1,\n",
              "        ngram_range=(1, 1), norm=u'l2', preprocessor=None, smooth_idf=True,\n",
              "        stop_words=None, strip_accents=None, sublinear_tf=False,\n",
              "        token_pattern=u'(?u)\\\\b\\\\w\\\\w+\\\\b', tokenizer=None, use_idf=True,\n",
              "        vocabulary=None)"
            ]
          },
          "metadata": {
            "tags": []
          },
          "execution_count": 60
        }
      ]
    },
    {
      "cell_type": "code",
      "metadata": {
        "id": "gSnNpQsNzTT2"
      },
      "source": [
        "Train_tf_idf = tf_idf.transform(Train['title&description'])\n",
        "Test_tf_idf = tf_idf.transform(Test['title&description'])"
      ],
      "execution_count": null,
      "outputs": []
    },
    {
      "cell_type": "code",
      "metadata": {
        "id": "RMu4HdLtzTT5",
        "outputId": "952691b9-0396-4581-8414-e4c14478ba19"
      },
      "source": [
        "clf = SGDClassifier()\n",
        "clf.fit(Train_tf_idf, Train['Category'])"
      ],
      "execution_count": null,
      "outputs": [
        {
          "output_type": "execute_result",
          "data": {
            "text/plain": [
              "SGDClassifier(alpha=0.0001, average=False, class_weight=None,\n",
              "       early_stopping=False, epsilon=0.1, eta0=0.0, fit_intercept=True,\n",
              "       l1_ratio=0.15, learning_rate='optimal', loss='hinge', max_iter=None,\n",
              "       n_iter=None, n_iter_no_change=5, n_jobs=None, penalty='l2',\n",
              "       power_t=0.5, random_state=None, shuffle=True, tol=None,\n",
              "       validation_fraction=0.1, verbose=0, warm_start=False)"
            ]
          },
          "metadata": {
            "tags": []
          },
          "execution_count": 63
        }
      ]
    },
    {
      "cell_type": "code",
      "metadata": {
        "id": "HXWGHGdhzTT7"
      },
      "source": [
        "Answer = pd.DataFrame(columns=['Id', 'Category'])\n",
        "Answer['Id'] = Test['itemid']"
      ],
      "execution_count": null,
      "outputs": []
    },
    {
      "cell_type": "code",
      "metadata": {
        "id": "Dfz6Biw5zTT-"
      },
      "source": [
        "Answer['Category'] = clf.predict(Test_tf_idf)"
      ],
      "execution_count": null,
      "outputs": []
    },
    {
      "cell_type": "code",
      "metadata": {
        "id": "R5o8NRypzTUA"
      },
      "source": [
        "Answer.to_csv('my_submission.csv', index=None)"
      ],
      "execution_count": null,
      "outputs": []
    },
    {
      "cell_type": "markdown",
      "metadata": {
        "id": "HwWkVNwkzTUB"
      },
      "source": [
        "Что можно сделать дальше?\n",
        " - попробуйте обработать текстовые данные, чтобы снизить размерность пространства признаков (стэмминг, лемматизация, удаление стоп-слов)\n",
        " - экспериментируйте с использованием других классификаторов\n",
        " - настройте гиперпараметры классификатора\n",
        " - примените стэкинг классификаторов\n",
        " - исследуйте данный и найдите интересные закономерности"
      ]
    },
    {
      "cell_type": "code",
      "metadata": {
        "id": "Empj5kHbzTUC"
      },
      "source": [],
      "execution_count": null,
      "outputs": []
    }
  ]
}