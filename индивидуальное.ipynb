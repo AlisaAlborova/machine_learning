{
  "nbformat": 4,
  "nbformat_minor": 0,
  "metadata": {
    "colab": {
      "provenance": []
    },
    "kernelspec": {
      "name": "python3",
      "display_name": "Python 3"
    },
    "language_info": {
      "name": "python"
    }
  },
  "cells": [
    {
      "cell_type": "code",
      "execution_count": 243,
      "metadata": {
        "id": "PRzb8intH0VT"
      },
      "outputs": [],
      "source": [
        "import pandas as pd"
      ]
    },
    {
      "cell_type": "code",
      "source": [
        "train = pd.read_csv(\"dataset.csv\", names = [x+1 for x in range(33)])"
      ],
      "metadata": {
        "id": "l0QN2hNzH_nv"
      },
      "execution_count": 244,
      "outputs": []
    },
    {
      "cell_type": "code",
      "source": [
        "train.shape"
      ],
      "metadata": {
        "colab": {
          "base_uri": "https://localhost:8080/"
        },
        "id": "-i0Iep7wLTXi",
        "outputId": "a35fe679-a2f1-4c26-fb28-b9c4a082fa71"
      },
      "execution_count": 245,
      "outputs": [
        {
          "output_type": "execute_result",
          "data": {
            "text/plain": [
              "(130, 33)"
            ]
          },
          "metadata": {},
          "execution_count": 245
        }
      ]
    },
    {
      "cell_type": "code",
      "source": [
        "train.head(2)"
      ],
      "metadata": {
        "colab": {
          "base_uri": "https://localhost:8080/",
          "height": 344
        },
        "id": "ZoNTOtFdJJFd",
        "outputId": "619f9ea2-d3da-4b23-a96e-d24c2e859ed7"
      },
      "execution_count": 246,
      "outputs": [
        {
          "output_type": "execute_result",
          "data": {
            "text/plain": [
              "                                                  1   \\\n",
              "0  Разработка компьютерных игр и мультимедийных п...   \n",
              "1            Разработка мобильных приложений(юниоры)   \n",
              "\n",
              "                                                  2   \\\n",
              "0  Разработка компьютерных игр и мультимедийных п...   \n",
              "1  Смартфоны продаются и продажи только растут. К...   \n",
              "\n",
              "                                 3   4   \\\n",
              "0  Организация и управление работой  13   \n",
              "1  Организация и управление работой   5   \n",
              "\n",
              "                                                  5   \\\n",
              "0  Специалист должен знать и понимать: • Принципы...   \n",
              "1  Специалист должен знать и понимать: • Принципы...   \n",
              "\n",
              "                                                  6   7   \\\n",
              "0                       Программирование на языке С#  27   \n",
              "1  Решение проблем, инновационность и инициативность   5   \n",
              "\n",
              "                                                  8   \\\n",
              "0  Специалист должен знать и понимать: • Базовые ...   \n",
              "1  Специалист должен знать и понимать: • Общие ти...   \n",
              "\n",
              "                                              9   10  ...   24  25   26   27  \\\n",
              "0                                       Unity 3D  30  ...  NaN NaN  NaN  NaN   \n",
              "1  Анализ и проектирование мобильного приложения  30  ...  NaN NaN  NaN  NaN   \n",
              "\n",
              "   28   29   30   31   32  33  \n",
              "0 NaN  NaN  NaN  NaN  NaN NaN  \n",
              "1 NaN  NaN  NaN  NaN  NaN NaN  \n",
              "\n",
              "[2 rows x 33 columns]"
            ],
            "text/html": [
              "\n",
              "  <div id=\"df-319e5207-5f32-4ae2-a4e1-ea2a0bc98cdc\">\n",
              "    <div class=\"colab-df-container\">\n",
              "      <div>\n",
              "<style scoped>\n",
              "    .dataframe tbody tr th:only-of-type {\n",
              "        vertical-align: middle;\n",
              "    }\n",
              "\n",
              "    .dataframe tbody tr th {\n",
              "        vertical-align: top;\n",
              "    }\n",
              "\n",
              "    .dataframe thead th {\n",
              "        text-align: right;\n",
              "    }\n",
              "</style>\n",
              "<table border=\"1\" class=\"dataframe\">\n",
              "  <thead>\n",
              "    <tr style=\"text-align: right;\">\n",
              "      <th></th>\n",
              "      <th>1</th>\n",
              "      <th>2</th>\n",
              "      <th>3</th>\n",
              "      <th>4</th>\n",
              "      <th>5</th>\n",
              "      <th>6</th>\n",
              "      <th>7</th>\n",
              "      <th>8</th>\n",
              "      <th>9</th>\n",
              "      <th>10</th>\n",
              "      <th>...</th>\n",
              "      <th>24</th>\n",
              "      <th>25</th>\n",
              "      <th>26</th>\n",
              "      <th>27</th>\n",
              "      <th>28</th>\n",
              "      <th>29</th>\n",
              "      <th>30</th>\n",
              "      <th>31</th>\n",
              "      <th>32</th>\n",
              "      <th>33</th>\n",
              "    </tr>\n",
              "  </thead>\n",
              "  <tbody>\n",
              "    <tr>\n",
              "      <th>0</th>\n",
              "      <td>Разработка компьютерных игр и мультимедийных п...</td>\n",
              "      <td>Разработка компьютерных игр и мультимедийных п...</td>\n",
              "      <td>Организация и управление работой</td>\n",
              "      <td>13</td>\n",
              "      <td>Специалист должен знать и понимать: • Принципы...</td>\n",
              "      <td>Программирование на языке С#</td>\n",
              "      <td>27</td>\n",
              "      <td>Специалист должен знать и понимать: • Базовые ...</td>\n",
              "      <td>Unity 3D</td>\n",
              "      <td>30</td>\n",
              "      <td>...</td>\n",
              "      <td>NaN</td>\n",
              "      <td>NaN</td>\n",
              "      <td>NaN</td>\n",
              "      <td>NaN</td>\n",
              "      <td>NaN</td>\n",
              "      <td>NaN</td>\n",
              "      <td>NaN</td>\n",
              "      <td>NaN</td>\n",
              "      <td>NaN</td>\n",
              "      <td>NaN</td>\n",
              "    </tr>\n",
              "    <tr>\n",
              "      <th>1</th>\n",
              "      <td>Разработка мобильных приложений(юниоры)</td>\n",
              "      <td>Смартфоны продаются и продажи только растут. К...</td>\n",
              "      <td>Организация и управление работой</td>\n",
              "      <td>5</td>\n",
              "      <td>Специалист должен знать и понимать: • Принципы...</td>\n",
              "      <td>Решение проблем, инновационность и инициативность</td>\n",
              "      <td>5</td>\n",
              "      <td>Специалист должен знать и понимать: • Общие ти...</td>\n",
              "      <td>Анализ и проектирование мобильного приложения</td>\n",
              "      <td>30</td>\n",
              "      <td>...</td>\n",
              "      <td>NaN</td>\n",
              "      <td>NaN</td>\n",
              "      <td>NaN</td>\n",
              "      <td>NaN</td>\n",
              "      <td>NaN</td>\n",
              "      <td>NaN</td>\n",
              "      <td>NaN</td>\n",
              "      <td>NaN</td>\n",
              "      <td>NaN</td>\n",
              "      <td>NaN</td>\n",
              "    </tr>\n",
              "  </tbody>\n",
              "</table>\n",
              "<p>2 rows × 33 columns</p>\n",
              "</div>\n",
              "      <button class=\"colab-df-convert\" onclick=\"convertToInteractive('df-319e5207-5f32-4ae2-a4e1-ea2a0bc98cdc')\"\n",
              "              title=\"Convert this dataframe to an interactive table.\"\n",
              "              style=\"display:none;\">\n",
              "        \n",
              "  <svg xmlns=\"http://www.w3.org/2000/svg\" height=\"24px\"viewBox=\"0 0 24 24\"\n",
              "       width=\"24px\">\n",
              "    <path d=\"M0 0h24v24H0V0z\" fill=\"none\"/>\n",
              "    <path d=\"M18.56 5.44l.94 2.06.94-2.06 2.06-.94-2.06-.94-.94-2.06-.94 2.06-2.06.94zm-11 1L8.5 8.5l.94-2.06 2.06-.94-2.06-.94L8.5 2.5l-.94 2.06-2.06.94zm10 10l.94 2.06.94-2.06 2.06-.94-2.06-.94-.94-2.06-.94 2.06-2.06.94z\"/><path d=\"M17.41 7.96l-1.37-1.37c-.4-.4-.92-.59-1.43-.59-.52 0-1.04.2-1.43.59L10.3 9.45l-7.72 7.72c-.78.78-.78 2.05 0 2.83L4 21.41c.39.39.9.59 1.41.59.51 0 1.02-.2 1.41-.59l7.78-7.78 2.81-2.81c.8-.78.8-2.07 0-2.86zM5.41 20L4 18.59l7.72-7.72 1.47 1.35L5.41 20z\"/>\n",
              "  </svg>\n",
              "      </button>\n",
              "      \n",
              "  <style>\n",
              "    .colab-df-container {\n",
              "      display:flex;\n",
              "      flex-wrap:wrap;\n",
              "      gap: 12px;\n",
              "    }\n",
              "\n",
              "    .colab-df-convert {\n",
              "      background-color: #E8F0FE;\n",
              "      border: none;\n",
              "      border-radius: 50%;\n",
              "      cursor: pointer;\n",
              "      display: none;\n",
              "      fill: #1967D2;\n",
              "      height: 32px;\n",
              "      padding: 0 0 0 0;\n",
              "      width: 32px;\n",
              "    }\n",
              "\n",
              "    .colab-df-convert:hover {\n",
              "      background-color: #E2EBFA;\n",
              "      box-shadow: 0px 1px 2px rgba(60, 64, 67, 0.3), 0px 1px 3px 1px rgba(60, 64, 67, 0.15);\n",
              "      fill: #174EA6;\n",
              "    }\n",
              "\n",
              "    [theme=dark] .colab-df-convert {\n",
              "      background-color: #3B4455;\n",
              "      fill: #D2E3FC;\n",
              "    }\n",
              "\n",
              "    [theme=dark] .colab-df-convert:hover {\n",
              "      background-color: #434B5C;\n",
              "      box-shadow: 0px 1px 3px 1px rgba(0, 0, 0, 0.15);\n",
              "      filter: drop-shadow(0px 1px 2px rgba(0, 0, 0, 0.3));\n",
              "      fill: #FFFFFF;\n",
              "    }\n",
              "  </style>\n",
              "\n",
              "      <script>\n",
              "        const buttonEl =\n",
              "          document.querySelector('#df-319e5207-5f32-4ae2-a4e1-ea2a0bc98cdc button.colab-df-convert');\n",
              "        buttonEl.style.display =\n",
              "          google.colab.kernel.accessAllowed ? 'block' : 'none';\n",
              "\n",
              "        async function convertToInteractive(key) {\n",
              "          const element = document.querySelector('#df-319e5207-5f32-4ae2-a4e1-ea2a0bc98cdc');\n",
              "          const dataTable =\n",
              "            await google.colab.kernel.invokeFunction('convertToInteractive',\n",
              "                                                     [key], {});\n",
              "          if (!dataTable) return;\n",
              "\n",
              "          const docLinkHtml = 'Like what you see? Visit the ' +\n",
              "            '<a target=\"_blank\" href=https://colab.research.google.com/notebooks/data_table.ipynb>data table notebook</a>'\n",
              "            + ' to learn more about interactive tables.';\n",
              "          element.innerHTML = '';\n",
              "          dataTable['output_type'] = 'display_data';\n",
              "          await google.colab.output.renderOutput(dataTable, element);\n",
              "          const docLink = document.createElement('div');\n",
              "          docLink.innerHTML = docLinkHtml;\n",
              "          element.appendChild(docLink);\n",
              "        }\n",
              "      </script>\n",
              "    </div>\n",
              "  </div>\n",
              "  "
            ]
          },
          "metadata": {},
          "execution_count": 246
        }
      ]
    },
    {
      "cell_type": "code",
      "source": [
        "train.fillna('a', inplace=True)"
      ],
      "metadata": {
        "id": "7owrMWtZgi93"
      },
      "execution_count": 247,
      "outputs": []
    },
    {
      "cell_type": "code",
      "source": [
        "# чистим текст\n",
        "import re\n",
        "for i in range(len(train)):\n",
        "  for j in range(1,33):\n",
        "    if train[j][i] == '':\n",
        "      train[j][i] = 'a'\n",
        "    train[j][i] = str(train[j][i])\n",
        "    train[j][i] = re.sub(r'[^\\w\\s]+|[\\d]+', r'', train[j][i]).strip()\n",
        "    train[j][i] = train[j][i].replace('.', '').replace(';', '').replace('\\n', '').replace(':','').replace(',', '').lower()\n",
        "train.head(2)"
      ],
      "metadata": {
        "colab": {
          "base_uri": "https://localhost:8080/",
          "height": 379
        },
        "id": "2YML-zV_YqfK",
        "outputId": "cc127912-258b-4a68-aa40-2eb0333aa480"
      },
      "execution_count": 248,
      "outputs": [
        {
          "output_type": "execute_result",
          "data": {
            "text/plain": [
              "                                                  1   \\\n",
              "0  разработка компьютерных игр и мультимедийных п...   \n",
              "1              разработка мобильных приложенийюниоры   \n",
              "\n",
              "                                                  2   \\\n",
              "0  разработка компьютерных игр и мультимедийных п...   \n",
              "1  смартфоны продаются и продажи только растут ко...   \n",
              "\n",
              "                                 3  4   \\\n",
              "0  организация и управление работой      \n",
              "1  организация и управление работой      \n",
              "\n",
              "                                                  5   \\\n",
              "0  специалист должен знать и понимать  принципы и...   \n",
              "1  специалист должен знать и понимать  принципы и...   \n",
              "\n",
              "                                                 6  7   \\\n",
              "0                       программирование на языке с      \n",
              "1  решение проблем инновационность и инициативность      \n",
              "\n",
              "                                                  8   \\\n",
              "0  специалист должен знать и понимать  базовые ал...   \n",
              "1  специалист должен знать и понимать  общие типы...   \n",
              "\n",
              "                                              9  10  ... 24 25 26 27 28 29 30  \\\n",
              "0                                        unity d     ...  a  a  a  a  a  a  a   \n",
              "1  анализ и проектирование мобильного приложения     ...  a  a  a  a  a  a  a   \n",
              "\n",
              "  31 32 33  \n",
              "0  a  a  a  \n",
              "1  a  a  a  \n",
              "\n",
              "[2 rows x 33 columns]"
            ],
            "text/html": [
              "\n",
              "  <div id=\"df-ad4127ba-aea2-476b-bbe9-2cbaf8637415\">\n",
              "    <div class=\"colab-df-container\">\n",
              "      <div>\n",
              "<style scoped>\n",
              "    .dataframe tbody tr th:only-of-type {\n",
              "        vertical-align: middle;\n",
              "    }\n",
              "\n",
              "    .dataframe tbody tr th {\n",
              "        vertical-align: top;\n",
              "    }\n",
              "\n",
              "    .dataframe thead th {\n",
              "        text-align: right;\n",
              "    }\n",
              "</style>\n",
              "<table border=\"1\" class=\"dataframe\">\n",
              "  <thead>\n",
              "    <tr style=\"text-align: right;\">\n",
              "      <th></th>\n",
              "      <th>1</th>\n",
              "      <th>2</th>\n",
              "      <th>3</th>\n",
              "      <th>4</th>\n",
              "      <th>5</th>\n",
              "      <th>6</th>\n",
              "      <th>7</th>\n",
              "      <th>8</th>\n",
              "      <th>9</th>\n",
              "      <th>10</th>\n",
              "      <th>...</th>\n",
              "      <th>24</th>\n",
              "      <th>25</th>\n",
              "      <th>26</th>\n",
              "      <th>27</th>\n",
              "      <th>28</th>\n",
              "      <th>29</th>\n",
              "      <th>30</th>\n",
              "      <th>31</th>\n",
              "      <th>32</th>\n",
              "      <th>33</th>\n",
              "    </tr>\n",
              "  </thead>\n",
              "  <tbody>\n",
              "    <tr>\n",
              "      <th>0</th>\n",
              "      <td>разработка компьютерных игр и мультимедийных п...</td>\n",
              "      <td>разработка компьютерных игр и мультимедийных п...</td>\n",
              "      <td>организация и управление работой</td>\n",
              "      <td></td>\n",
              "      <td>специалист должен знать и понимать  принципы и...</td>\n",
              "      <td>программирование на языке с</td>\n",
              "      <td></td>\n",
              "      <td>специалист должен знать и понимать  базовые ал...</td>\n",
              "      <td>unity d</td>\n",
              "      <td></td>\n",
              "      <td>...</td>\n",
              "      <td>a</td>\n",
              "      <td>a</td>\n",
              "      <td>a</td>\n",
              "      <td>a</td>\n",
              "      <td>a</td>\n",
              "      <td>a</td>\n",
              "      <td>a</td>\n",
              "      <td>a</td>\n",
              "      <td>a</td>\n",
              "      <td>a</td>\n",
              "    </tr>\n",
              "    <tr>\n",
              "      <th>1</th>\n",
              "      <td>разработка мобильных приложенийюниоры</td>\n",
              "      <td>смартфоны продаются и продажи только растут ко...</td>\n",
              "      <td>организация и управление работой</td>\n",
              "      <td></td>\n",
              "      <td>специалист должен знать и понимать  принципы и...</td>\n",
              "      <td>решение проблем инновационность и инициативность</td>\n",
              "      <td></td>\n",
              "      <td>специалист должен знать и понимать  общие типы...</td>\n",
              "      <td>анализ и проектирование мобильного приложения</td>\n",
              "      <td></td>\n",
              "      <td>...</td>\n",
              "      <td>a</td>\n",
              "      <td>a</td>\n",
              "      <td>a</td>\n",
              "      <td>a</td>\n",
              "      <td>a</td>\n",
              "      <td>a</td>\n",
              "      <td>a</td>\n",
              "      <td>a</td>\n",
              "      <td>a</td>\n",
              "      <td>a</td>\n",
              "    </tr>\n",
              "  </tbody>\n",
              "</table>\n",
              "<p>2 rows × 33 columns</p>\n",
              "</div>\n",
              "      <button class=\"colab-df-convert\" onclick=\"convertToInteractive('df-ad4127ba-aea2-476b-bbe9-2cbaf8637415')\"\n",
              "              title=\"Convert this dataframe to an interactive table.\"\n",
              "              style=\"display:none;\">\n",
              "        \n",
              "  <svg xmlns=\"http://www.w3.org/2000/svg\" height=\"24px\"viewBox=\"0 0 24 24\"\n",
              "       width=\"24px\">\n",
              "    <path d=\"M0 0h24v24H0V0z\" fill=\"none\"/>\n",
              "    <path d=\"M18.56 5.44l.94 2.06.94-2.06 2.06-.94-2.06-.94-.94-2.06-.94 2.06-2.06.94zm-11 1L8.5 8.5l.94-2.06 2.06-.94-2.06-.94L8.5 2.5l-.94 2.06-2.06.94zm10 10l.94 2.06.94-2.06 2.06-.94-2.06-.94-.94-2.06-.94 2.06-2.06.94z\"/><path d=\"M17.41 7.96l-1.37-1.37c-.4-.4-.92-.59-1.43-.59-.52 0-1.04.2-1.43.59L10.3 9.45l-7.72 7.72c-.78.78-.78 2.05 0 2.83L4 21.41c.39.39.9.59 1.41.59.51 0 1.02-.2 1.41-.59l7.78-7.78 2.81-2.81c.8-.78.8-2.07 0-2.86zM5.41 20L4 18.59l7.72-7.72 1.47 1.35L5.41 20z\"/>\n",
              "  </svg>\n",
              "      </button>\n",
              "      \n",
              "  <style>\n",
              "    .colab-df-container {\n",
              "      display:flex;\n",
              "      flex-wrap:wrap;\n",
              "      gap: 12px;\n",
              "    }\n",
              "\n",
              "    .colab-df-convert {\n",
              "      background-color: #E8F0FE;\n",
              "      border: none;\n",
              "      border-radius: 50%;\n",
              "      cursor: pointer;\n",
              "      display: none;\n",
              "      fill: #1967D2;\n",
              "      height: 32px;\n",
              "      padding: 0 0 0 0;\n",
              "      width: 32px;\n",
              "    }\n",
              "\n",
              "    .colab-df-convert:hover {\n",
              "      background-color: #E2EBFA;\n",
              "      box-shadow: 0px 1px 2px rgba(60, 64, 67, 0.3), 0px 1px 3px 1px rgba(60, 64, 67, 0.15);\n",
              "      fill: #174EA6;\n",
              "    }\n",
              "\n",
              "    [theme=dark] .colab-df-convert {\n",
              "      background-color: #3B4455;\n",
              "      fill: #D2E3FC;\n",
              "    }\n",
              "\n",
              "    [theme=dark] .colab-df-convert:hover {\n",
              "      background-color: #434B5C;\n",
              "      box-shadow: 0px 1px 3px 1px rgba(0, 0, 0, 0.15);\n",
              "      filter: drop-shadow(0px 1px 2px rgba(0, 0, 0, 0.3));\n",
              "      fill: #FFFFFF;\n",
              "    }\n",
              "  </style>\n",
              "\n",
              "      <script>\n",
              "        const buttonEl =\n",
              "          document.querySelector('#df-ad4127ba-aea2-476b-bbe9-2cbaf8637415 button.colab-df-convert');\n",
              "        buttonEl.style.display =\n",
              "          google.colab.kernel.accessAllowed ? 'block' : 'none';\n",
              "\n",
              "        async function convertToInteractive(key) {\n",
              "          const element = document.querySelector('#df-ad4127ba-aea2-476b-bbe9-2cbaf8637415');\n",
              "          const dataTable =\n",
              "            await google.colab.kernel.invokeFunction('convertToInteractive',\n",
              "                                                     [key], {});\n",
              "          if (!dataTable) return;\n",
              "\n",
              "          const docLinkHtml = 'Like what you see? Visit the ' +\n",
              "            '<a target=\"_blank\" href=https://colab.research.google.com/notebooks/data_table.ipynb>data table notebook</a>'\n",
              "            + ' to learn more about interactive tables.';\n",
              "          element.innerHTML = '';\n",
              "          dataTable['output_type'] = 'display_data';\n",
              "          await google.colab.output.renderOutput(dataTable, element);\n",
              "          const docLink = document.createElement('div');\n",
              "          docLink.innerHTML = docLinkHtml;\n",
              "          element.appendChild(docLink);\n",
              "        }\n",
              "      </script>\n",
              "    </div>\n",
              "  </div>\n",
              "  "
            ]
          },
          "metadata": {},
          "execution_count": 248
        }
      ]
    },
    {
      "cell_type": "code",
      "source": [
        "train.fillna('a', inplace=True)"
      ],
      "metadata": {
        "id": "iCEtMqlQtxWt"
      },
      "execution_count": 249,
      "outputs": []
    },
    {
      "cell_type": "code",
      "source": [
        "train.insert(1, 'all',value = ['' for x in range(len(train))])\n",
        "train"
      ],
      "metadata": {
        "colab": {
          "base_uri": "https://localhost:8080/",
          "height": 1000
        },
        "id": "sHMB-Mue2rCw",
        "outputId": "16868c8d-229b-46e0-d05c-e50f83c484cf"
      },
      "execution_count": 250,
      "outputs": [
        {
          "output_type": "execute_result",
          "data": {
            "text/plain": [
              "                                                     1 all  \\\n",
              "0    разработка компьютерных игр и мультимедийных п...       \n",
              "1                разработка мобильных приложенийюниоры       \n",
              "2                       преподавание в младших классах       \n",
              "3                          дошкольное воспитаниеюниоры       \n",
              "4                                дошкольное воспитание       \n",
              "..                                                 ...  ..   \n",
              "125                                      электромонтаж       \n",
              "126                               электромонтаж юниоры       \n",
              "127                          эстетическая косметология       \n",
              "128                   эстетическая косметология юниоры       \n",
              "129                                     ювелирное дело       \n",
              "\n",
              "                                                     2  \\\n",
              "0    разработка компьютерных игр и мультимедийных п...   \n",
              "1    смартфоны продаются и продажи только растут ко...   \n",
              "2    высококвалифицированные специалисты в сфере на...   \n",
              "3    воспитатель детей дошкольного возраста осущест...   \n",
              "4    воспитатель детей дошкольного возраста осущест...   \n",
              "..                                                 ...   \n",
              "125  электромонтажник электрик работает в коммерчес...   \n",
              "126  электромонтажник электрик работает в коммерчес...   \n",
              "127  эстетическая косметология именование работающе...   \n",
              "128  эстетическая косметология именование работающе...   \n",
              "129  профессия ювелира прежде всего связана с ручны...   \n",
              "\n",
              "                                                     3 4   \\\n",
              "0                     организация и управление работой      \n",
              "1                     организация и управление работой      \n",
              "2                              общекультурное развитие      \n",
              "3    соблюдение санитарных норм и правил профилакти...      \n",
              "4    соблюдение санитарных норм и правил профилакти...      \n",
              "..                                                 ... ..   \n",
              "125                                 организация работы      \n",
              "126                                 организация работы      \n",
              "127   организация рабочего места нормативные документы      \n",
              "128   организация рабочего места нормативные документы      \n",
              "129                   организация и управление работой      \n",
              "\n",
              "                                                     5  \\\n",
              "0    специалист должен знать и понимать  принципы и...   \n",
              "1    специалист должен знать и понимать  принципы и...   \n",
              "2    специалист должен знать и понимать основы язык...   \n",
              "3    специалист должен знать и понимать стандарт от...   \n",
              "4    специалист должен знать и понимать  стандарт о...   \n",
              "..                                                 ...   \n",
              "125  специалист должен знать и понимать  документац...   \n",
              "126  специалист должен знать и понимать  документац...   \n",
              "127  специалист должен знать и понимать  законы пра...   \n",
              "128  специалист должен знать и понимать  законы пра...   \n",
              "129  специалист должен знать и понимать  процедуры ...   \n",
              "\n",
              "                                                     6 7   \\\n",
              "0                          программирование на языке с      \n",
              "1     решение проблем инновационность и инициативность      \n",
              "2    культура безопасного труда организация рабочег...      \n",
              "3    поиск анализ и оценка информации необходимой д...      \n",
              "4    поиск анализ и оценка информации необходимой д...      \n",
              "..                                                 ... ..   \n",
              "125     коммуникативные и межличностные навыки общения      \n",
              "126     коммуникативные и межличностные навыки общения      \n",
              "127                                       коммуникации      \n",
              "128                                       коммуникации      \n",
              "129                       дизайн ювелирных компонентов      \n",
              "\n",
              "                                                     8  \\\n",
              "0    специалист должен знать и понимать  базовые ал...   \n",
              "1    специалист должен знать и понимать  общие типы...   \n",
              "2    специалист должен знать и понимать участник ко...   \n",
              "3    специалист должен знать и понимать  основную о...   \n",
              "4    специалист должен знать и понимать основную об...   \n",
              "..                                                 ...   \n",
              "125  специалист должен знать и понимать  значимость...   \n",
              "126  специалист должен знать и понимать  значимость...   \n",
              "127  специалист должен знать и понимать  профессион...   \n",
              "128  специалист должен знать и понимать  профессион...   \n",
              "129  специалист должен знать и понимать  ресурсы ис...   \n",
              "\n",
              "                                                     9  ... 24 25 26 27 28 29  \\\n",
              "0                                              unity d  ...  a  a  a  a  a  a   \n",
              "1        анализ и проектирование мобильного приложения  ...  a  a  a  a  a  a   \n",
              "2                        общепрофессиональное развитие  ...  a  a  a  a  a  a   \n",
              "3    использование информационнокоммуникационных те...  ...  a  a  a  a  a  a   \n",
              "4    использование информационнокоммуникационных те...  ...  a  a  a  a  a  a   \n",
              "..                                                 ...  ... .. .. .. .. .. ..   \n",
              "125           решение проблем инновация и креативность  ...  a  a  a  a  a  a   \n",
              "126           решение проблем инновация и креативность  ...  a  a  a  a  a  a   \n",
              "127                   анализ планирование и менеджмент  ...  a  a  a  a  a  a   \n",
              "128                   анализ планирование и менеджмент  ...  a  a  a  a  a  a   \n",
              "129          изготовление сплавов драгоценных металлов  ...  a  a  a  a  a  a   \n",
              "\n",
              "    30 31 32 33  \n",
              "0    a  a  a  a  \n",
              "1    a  a  a  a  \n",
              "2    a  a  a  a  \n",
              "3    a  a  a  a  \n",
              "4    a  a  a  a  \n",
              "..  .. .. .. ..  \n",
              "125  a  a  a  a  \n",
              "126  a  a  a  a  \n",
              "127  a  a  a  a  \n",
              "128  a  a  a  a  \n",
              "129  a  a  a  a  \n",
              "\n",
              "[130 rows x 34 columns]"
            ],
            "text/html": [
              "\n",
              "  <div id=\"df-123725a6-2965-43fd-9dfd-ce9e9b5bea02\">\n",
              "    <div class=\"colab-df-container\">\n",
              "      <div>\n",
              "<style scoped>\n",
              "    .dataframe tbody tr th:only-of-type {\n",
              "        vertical-align: middle;\n",
              "    }\n",
              "\n",
              "    .dataframe tbody tr th {\n",
              "        vertical-align: top;\n",
              "    }\n",
              "\n",
              "    .dataframe thead th {\n",
              "        text-align: right;\n",
              "    }\n",
              "</style>\n",
              "<table border=\"1\" class=\"dataframe\">\n",
              "  <thead>\n",
              "    <tr style=\"text-align: right;\">\n",
              "      <th></th>\n",
              "      <th>1</th>\n",
              "      <th>all</th>\n",
              "      <th>2</th>\n",
              "      <th>3</th>\n",
              "      <th>4</th>\n",
              "      <th>5</th>\n",
              "      <th>6</th>\n",
              "      <th>7</th>\n",
              "      <th>8</th>\n",
              "      <th>9</th>\n",
              "      <th>...</th>\n",
              "      <th>24</th>\n",
              "      <th>25</th>\n",
              "      <th>26</th>\n",
              "      <th>27</th>\n",
              "      <th>28</th>\n",
              "      <th>29</th>\n",
              "      <th>30</th>\n",
              "      <th>31</th>\n",
              "      <th>32</th>\n",
              "      <th>33</th>\n",
              "    </tr>\n",
              "  </thead>\n",
              "  <tbody>\n",
              "    <tr>\n",
              "      <th>0</th>\n",
              "      <td>разработка компьютерных игр и мультимедийных п...</td>\n",
              "      <td></td>\n",
              "      <td>разработка компьютерных игр и мультимедийных п...</td>\n",
              "      <td>организация и управление работой</td>\n",
              "      <td></td>\n",
              "      <td>специалист должен знать и понимать  принципы и...</td>\n",
              "      <td>программирование на языке с</td>\n",
              "      <td></td>\n",
              "      <td>специалист должен знать и понимать  базовые ал...</td>\n",
              "      <td>unity d</td>\n",
              "      <td>...</td>\n",
              "      <td>a</td>\n",
              "      <td>a</td>\n",
              "      <td>a</td>\n",
              "      <td>a</td>\n",
              "      <td>a</td>\n",
              "      <td>a</td>\n",
              "      <td>a</td>\n",
              "      <td>a</td>\n",
              "      <td>a</td>\n",
              "      <td>a</td>\n",
              "    </tr>\n",
              "    <tr>\n",
              "      <th>1</th>\n",
              "      <td>разработка мобильных приложенийюниоры</td>\n",
              "      <td></td>\n",
              "      <td>смартфоны продаются и продажи только растут ко...</td>\n",
              "      <td>организация и управление работой</td>\n",
              "      <td></td>\n",
              "      <td>специалист должен знать и понимать  принципы и...</td>\n",
              "      <td>решение проблем инновационность и инициативность</td>\n",
              "      <td></td>\n",
              "      <td>специалист должен знать и понимать  общие типы...</td>\n",
              "      <td>анализ и проектирование мобильного приложения</td>\n",
              "      <td>...</td>\n",
              "      <td>a</td>\n",
              "      <td>a</td>\n",
              "      <td>a</td>\n",
              "      <td>a</td>\n",
              "      <td>a</td>\n",
              "      <td>a</td>\n",
              "      <td>a</td>\n",
              "      <td>a</td>\n",
              "      <td>a</td>\n",
              "      <td>a</td>\n",
              "    </tr>\n",
              "    <tr>\n",
              "      <th>2</th>\n",
              "      <td>преподавание в младших классах</td>\n",
              "      <td></td>\n",
              "      <td>высококвалифицированные специалисты в сфере на...</td>\n",
              "      <td>общекультурное развитие</td>\n",
              "      <td></td>\n",
              "      <td>специалист должен знать и понимать основы язык...</td>\n",
              "      <td>культура безопасного труда организация рабочег...</td>\n",
              "      <td></td>\n",
              "      <td>специалист должен знать и понимать участник ко...</td>\n",
              "      <td>общепрофессиональное развитие</td>\n",
              "      <td>...</td>\n",
              "      <td>a</td>\n",
              "      <td>a</td>\n",
              "      <td>a</td>\n",
              "      <td>a</td>\n",
              "      <td>a</td>\n",
              "      <td>a</td>\n",
              "      <td>a</td>\n",
              "      <td>a</td>\n",
              "      <td>a</td>\n",
              "      <td>a</td>\n",
              "    </tr>\n",
              "    <tr>\n",
              "      <th>3</th>\n",
              "      <td>дошкольное воспитаниеюниоры</td>\n",
              "      <td></td>\n",
              "      <td>воспитатель детей дошкольного возраста осущест...</td>\n",
              "      <td>соблюдение санитарных норм и правил профилакти...</td>\n",
              "      <td></td>\n",
              "      <td>специалист должен знать и понимать стандарт от...</td>\n",
              "      <td>поиск анализ и оценка информации необходимой д...</td>\n",
              "      <td></td>\n",
              "      <td>специалист должен знать и понимать  основную о...</td>\n",
              "      <td>использование информационнокоммуникационных те...</td>\n",
              "      <td>...</td>\n",
              "      <td>a</td>\n",
              "      <td>a</td>\n",
              "      <td>a</td>\n",
              "      <td>a</td>\n",
              "      <td>a</td>\n",
              "      <td>a</td>\n",
              "      <td>a</td>\n",
              "      <td>a</td>\n",
              "      <td>a</td>\n",
              "      <td>a</td>\n",
              "    </tr>\n",
              "    <tr>\n",
              "      <th>4</th>\n",
              "      <td>дошкольное воспитание</td>\n",
              "      <td></td>\n",
              "      <td>воспитатель детей дошкольного возраста осущест...</td>\n",
              "      <td>соблюдение санитарных норм и правил профилакти...</td>\n",
              "      <td></td>\n",
              "      <td>специалист должен знать и понимать  стандарт о...</td>\n",
              "      <td>поиск анализ и оценка информации необходимой д...</td>\n",
              "      <td></td>\n",
              "      <td>специалист должен знать и понимать основную об...</td>\n",
              "      <td>использование информационнокоммуникационных те...</td>\n",
              "      <td>...</td>\n",
              "      <td>a</td>\n",
              "      <td>a</td>\n",
              "      <td>a</td>\n",
              "      <td>a</td>\n",
              "      <td>a</td>\n",
              "      <td>a</td>\n",
              "      <td>a</td>\n",
              "      <td>a</td>\n",
              "      <td>a</td>\n",
              "      <td>a</td>\n",
              "    </tr>\n",
              "    <tr>\n",
              "      <th>...</th>\n",
              "      <td>...</td>\n",
              "      <td>...</td>\n",
              "      <td>...</td>\n",
              "      <td>...</td>\n",
              "      <td>...</td>\n",
              "      <td>...</td>\n",
              "      <td>...</td>\n",
              "      <td>...</td>\n",
              "      <td>...</td>\n",
              "      <td>...</td>\n",
              "      <td>...</td>\n",
              "      <td>...</td>\n",
              "      <td>...</td>\n",
              "      <td>...</td>\n",
              "      <td>...</td>\n",
              "      <td>...</td>\n",
              "      <td>...</td>\n",
              "      <td>...</td>\n",
              "      <td>...</td>\n",
              "      <td>...</td>\n",
              "      <td>...</td>\n",
              "    </tr>\n",
              "    <tr>\n",
              "      <th>125</th>\n",
              "      <td>электромонтаж</td>\n",
              "      <td></td>\n",
              "      <td>электромонтажник электрик работает в коммерчес...</td>\n",
              "      <td>организация работы</td>\n",
              "      <td></td>\n",
              "      <td>специалист должен знать и понимать  документац...</td>\n",
              "      <td>коммуникативные и межличностные навыки общения</td>\n",
              "      <td></td>\n",
              "      <td>специалист должен знать и понимать  значимость...</td>\n",
              "      <td>решение проблем инновация и креативность</td>\n",
              "      <td>...</td>\n",
              "      <td>a</td>\n",
              "      <td>a</td>\n",
              "      <td>a</td>\n",
              "      <td>a</td>\n",
              "      <td>a</td>\n",
              "      <td>a</td>\n",
              "      <td>a</td>\n",
              "      <td>a</td>\n",
              "      <td>a</td>\n",
              "      <td>a</td>\n",
              "    </tr>\n",
              "    <tr>\n",
              "      <th>126</th>\n",
              "      <td>электромонтаж юниоры</td>\n",
              "      <td></td>\n",
              "      <td>электромонтажник электрик работает в коммерчес...</td>\n",
              "      <td>организация работы</td>\n",
              "      <td></td>\n",
              "      <td>специалист должен знать и понимать  документац...</td>\n",
              "      <td>коммуникативные и межличностные навыки общения</td>\n",
              "      <td></td>\n",
              "      <td>специалист должен знать и понимать  значимость...</td>\n",
              "      <td>решение проблем инновация и креативность</td>\n",
              "      <td>...</td>\n",
              "      <td>a</td>\n",
              "      <td>a</td>\n",
              "      <td>a</td>\n",
              "      <td>a</td>\n",
              "      <td>a</td>\n",
              "      <td>a</td>\n",
              "      <td>a</td>\n",
              "      <td>a</td>\n",
              "      <td>a</td>\n",
              "      <td>a</td>\n",
              "    </tr>\n",
              "    <tr>\n",
              "      <th>127</th>\n",
              "      <td>эстетическая косметология</td>\n",
              "      <td></td>\n",
              "      <td>эстетическая косметология именование работающе...</td>\n",
              "      <td>организация рабочего места нормативные документы</td>\n",
              "      <td></td>\n",
              "      <td>специалист должен знать и понимать  законы пра...</td>\n",
              "      <td>коммуникации</td>\n",
              "      <td></td>\n",
              "      <td>специалист должен знать и понимать  профессион...</td>\n",
              "      <td>анализ планирование и менеджмент</td>\n",
              "      <td>...</td>\n",
              "      <td>a</td>\n",
              "      <td>a</td>\n",
              "      <td>a</td>\n",
              "      <td>a</td>\n",
              "      <td>a</td>\n",
              "      <td>a</td>\n",
              "      <td>a</td>\n",
              "      <td>a</td>\n",
              "      <td>a</td>\n",
              "      <td>a</td>\n",
              "    </tr>\n",
              "    <tr>\n",
              "      <th>128</th>\n",
              "      <td>эстетическая косметология юниоры</td>\n",
              "      <td></td>\n",
              "      <td>эстетическая косметология именование работающе...</td>\n",
              "      <td>организация рабочего места нормативные документы</td>\n",
              "      <td></td>\n",
              "      <td>специалист должен знать и понимать  законы пра...</td>\n",
              "      <td>коммуникации</td>\n",
              "      <td></td>\n",
              "      <td>специалист должен знать и понимать  профессион...</td>\n",
              "      <td>анализ планирование и менеджмент</td>\n",
              "      <td>...</td>\n",
              "      <td>a</td>\n",
              "      <td>a</td>\n",
              "      <td>a</td>\n",
              "      <td>a</td>\n",
              "      <td>a</td>\n",
              "      <td>a</td>\n",
              "      <td>a</td>\n",
              "      <td>a</td>\n",
              "      <td>a</td>\n",
              "      <td>a</td>\n",
              "    </tr>\n",
              "    <tr>\n",
              "      <th>129</th>\n",
              "      <td>ювелирное дело</td>\n",
              "      <td></td>\n",
              "      <td>профессия ювелира прежде всего связана с ручны...</td>\n",
              "      <td>организация и управление работой</td>\n",
              "      <td></td>\n",
              "      <td>специалист должен знать и понимать  процедуры ...</td>\n",
              "      <td>дизайн ювелирных компонентов</td>\n",
              "      <td></td>\n",
              "      <td>специалист должен знать и понимать  ресурсы ис...</td>\n",
              "      <td>изготовление сплавов драгоценных металлов</td>\n",
              "      <td>...</td>\n",
              "      <td>a</td>\n",
              "      <td>a</td>\n",
              "      <td>a</td>\n",
              "      <td>a</td>\n",
              "      <td>a</td>\n",
              "      <td>a</td>\n",
              "      <td>a</td>\n",
              "      <td>a</td>\n",
              "      <td>a</td>\n",
              "      <td>a</td>\n",
              "    </tr>\n",
              "  </tbody>\n",
              "</table>\n",
              "<p>130 rows × 34 columns</p>\n",
              "</div>\n",
              "      <button class=\"colab-df-convert\" onclick=\"convertToInteractive('df-123725a6-2965-43fd-9dfd-ce9e9b5bea02')\"\n",
              "              title=\"Convert this dataframe to an interactive table.\"\n",
              "              style=\"display:none;\">\n",
              "        \n",
              "  <svg xmlns=\"http://www.w3.org/2000/svg\" height=\"24px\"viewBox=\"0 0 24 24\"\n",
              "       width=\"24px\">\n",
              "    <path d=\"M0 0h24v24H0V0z\" fill=\"none\"/>\n",
              "    <path d=\"M18.56 5.44l.94 2.06.94-2.06 2.06-.94-2.06-.94-.94-2.06-.94 2.06-2.06.94zm-11 1L8.5 8.5l.94-2.06 2.06-.94-2.06-.94L8.5 2.5l-.94 2.06-2.06.94zm10 10l.94 2.06.94-2.06 2.06-.94-2.06-.94-.94-2.06-.94 2.06-2.06.94z\"/><path d=\"M17.41 7.96l-1.37-1.37c-.4-.4-.92-.59-1.43-.59-.52 0-1.04.2-1.43.59L10.3 9.45l-7.72 7.72c-.78.78-.78 2.05 0 2.83L4 21.41c.39.39.9.59 1.41.59.51 0 1.02-.2 1.41-.59l7.78-7.78 2.81-2.81c.8-.78.8-2.07 0-2.86zM5.41 20L4 18.59l7.72-7.72 1.47 1.35L5.41 20z\"/>\n",
              "  </svg>\n",
              "      </button>\n",
              "      \n",
              "  <style>\n",
              "    .colab-df-container {\n",
              "      display:flex;\n",
              "      flex-wrap:wrap;\n",
              "      gap: 12px;\n",
              "    }\n",
              "\n",
              "    .colab-df-convert {\n",
              "      background-color: #E8F0FE;\n",
              "      border: none;\n",
              "      border-radius: 50%;\n",
              "      cursor: pointer;\n",
              "      display: none;\n",
              "      fill: #1967D2;\n",
              "      height: 32px;\n",
              "      padding: 0 0 0 0;\n",
              "      width: 32px;\n",
              "    }\n",
              "\n",
              "    .colab-df-convert:hover {\n",
              "      background-color: #E2EBFA;\n",
              "      box-shadow: 0px 1px 2px rgba(60, 64, 67, 0.3), 0px 1px 3px 1px rgba(60, 64, 67, 0.15);\n",
              "      fill: #174EA6;\n",
              "    }\n",
              "\n",
              "    [theme=dark] .colab-df-convert {\n",
              "      background-color: #3B4455;\n",
              "      fill: #D2E3FC;\n",
              "    }\n",
              "\n",
              "    [theme=dark] .colab-df-convert:hover {\n",
              "      background-color: #434B5C;\n",
              "      box-shadow: 0px 1px 3px 1px rgba(0, 0, 0, 0.15);\n",
              "      filter: drop-shadow(0px 1px 2px rgba(0, 0, 0, 0.3));\n",
              "      fill: #FFFFFF;\n",
              "    }\n",
              "  </style>\n",
              "\n",
              "      <script>\n",
              "        const buttonEl =\n",
              "          document.querySelector('#df-123725a6-2965-43fd-9dfd-ce9e9b5bea02 button.colab-df-convert');\n",
              "        buttonEl.style.display =\n",
              "          google.colab.kernel.accessAllowed ? 'block' : 'none';\n",
              "\n",
              "        async function convertToInteractive(key) {\n",
              "          const element = document.querySelector('#df-123725a6-2965-43fd-9dfd-ce9e9b5bea02');\n",
              "          const dataTable =\n",
              "            await google.colab.kernel.invokeFunction('convertToInteractive',\n",
              "                                                     [key], {});\n",
              "          if (!dataTable) return;\n",
              "\n",
              "          const docLinkHtml = 'Like what you see? Visit the ' +\n",
              "            '<a target=\"_blank\" href=https://colab.research.google.com/notebooks/data_table.ipynb>data table notebook</a>'\n",
              "            + ' to learn more about interactive tables.';\n",
              "          element.innerHTML = '';\n",
              "          dataTable['output_type'] = 'display_data';\n",
              "          await google.colab.output.renderOutput(dataTable, element);\n",
              "          const docLink = document.createElement('div');\n",
              "          docLink.innerHTML = docLinkHtml;\n",
              "          element.appendChild(docLink);\n",
              "        }\n",
              "      </script>\n",
              "    </div>\n",
              "  </div>\n",
              "  "
            ]
          },
          "metadata": {},
          "execution_count": 250
        }
      ]
    },
    {
      "cell_type": "code",
      "source": [
        "train['all'] = train[2].str[:] + ' ' + train[3].str[:] + ' ' + train[4].str[:] + ' ' + train[5].str[:] + ' ' + train[6].str[:] + ' ' + train[7].str[:] + ' ' + train[8].str[:] + ' ' + train[9].str[:] + ' ' + train[10].str[:] + ' ' + train[11].str[:] + ' ' + train[12].str[:] + ' ' + train[13].str[:] + ' ' + train[14].str[:] + ' ' + train[15].str[:] + ' ' + train[16].str[:] + ' ' + train[17].str[:] + ' ' + train[18].str[:] + ' ' + train[19].str[:] + ' ' + train[20].str[:] + ' ' + train[21].str[:] + ' ' + train[22].str[:] + ' ' + train[23].str[:] + ' ' + train[24].str[:] + ' ' + train[25].str[:] + ' ' + train[26].str[:] + ' ' + train[27].str[:] + ' ' + train[28].str[:] + ' ' + train[29].str[:] + ' ' + train[30].str[:] + ' ' + train[31].str[:] + ' ' + train[32].str[:] + ' ' + train[33].str[:]\n",
        "train\n",
        "x_text = train['all']"
      ],
      "metadata": {
        "id": "qouySCnq2oJN"
      },
      "execution_count": 251,
      "outputs": []
    },
    {
      "cell_type": "code",
      "source": [
        "x_text.head(5)"
      ],
      "metadata": {
        "colab": {
          "base_uri": "https://localhost:8080/"
        },
        "id": "tSQvDB3w4zfq",
        "outputId": "943a7f15-ef25-4864-e47e-365f3521ba94"
      },
      "execution_count": 252,
      "outputs": [
        {
          "output_type": "execute_result",
          "data": {
            "text/plain": [
              "0    разработка компьютерных игр и мультимедийных п...\n",
              "1    смартфоны продаются и продажи только растут ко...\n",
              "2    высококвалифицированные специалисты в сфере на...\n",
              "3    воспитатель детей дошкольного возраста осущест...\n",
              "4    воспитатель детей дошкольного возраста осущест...\n",
              "Name: all, dtype: object"
            ]
          },
          "metadata": {},
          "execution_count": 252
        }
      ]
    },
    {
      "cell_type": "code",
      "source": [
        "#https://newtechaudit.ru/bystraya-klasterizacziya-teksta/\n",
        "from sklearn.cluster import MiniBatchKMeans\n",
        "from sklearn.feature_extraction.text import TfidfVectorizer, CountVectorizer\n",
        "import numpy as np\n",
        "import matplotlib.pyplot as plt\n",
        "\n",
        "tfidf_vectorizer = TfidfVectorizer(smooth_idf=True,max_df=0.6,min_df=0.01,max_features=100000,\n",
        "                                   use_idf=True, ngram_range=(1,3))\n",
        "\n",
        "tfidf_matrix = tfidf_vectorizer.fit_transform(train[2])\n",
        "\n",
        "mbk  = MiniBatchKMeans(n_clusters=5,init='random').fit(tfidf_matrix)\n",
        "y_kmeansMBK = mbk.predict(tfidf_matrix)\n",
        "Num = [] \n",
        "Num = [pt for pt in y_kmeansMBK]\n",
        "df2 = {\"Num_Cluster\": Num}\n",
        "dfMBK = pd.DataFrame(df2)\n",
        "df = pd.concat([train,dfMBK], axis=1)\n",
        "df.to_excel('Claster.xlsx', index=False)"
      ],
      "metadata": {
        "id": "HngrHGjpuyQK"
      },
      "execution_count": 101,
      "outputs": []
    },
    {
      "cell_type": "code",
      "source": [
        "import re\n",
        "for i in range(len(x_text)):\n",
        "  if x_text[i] == '':\n",
        "    x_text[i] = 'a'\n",
        "  x_text[i] = str(x_text[i])\n",
        "  x_text[i] = re.sub(r'[^\\w\\s]+|[\\d]+', r'', x_text[i]).strip()\n",
        "  x_text[i] = x_text[i].replace('.', '').replace(';', '').replace('\\n', '').replace(':','').replace(',', '').lower()\n",
        "#токенизируем текст\n",
        "import nltk\n",
        "nltk.download('punkt')\n",
        "x_text = x_text.apply(nltk.word_tokenize)\n",
        "x_text"
      ],
      "metadata": {
        "colab": {
          "base_uri": "https://localhost:8080/"
        },
        "id": "8EGYG_nQagPe",
        "outputId": "f11e2969-1cf0-422a-de5d-ff99b5e44854"
      },
      "execution_count": 253,
      "outputs": [
        {
          "output_type": "stream",
          "name": "stderr",
          "text": [
            "[nltk_data] Downloading package punkt to /root/nltk_data...\n",
            "[nltk_data]   Package punkt is already up-to-date!\n"
          ]
        },
        {
          "output_type": "execute_result",
          "data": {
            "text/plain": [
              "0      [разработка, компьютерных, игр, и, мультимедий...\n",
              "1      [смартфоны, продаются, и, продажи, только, рас...\n",
              "2      [высококвалифицированные, специалисты, в, сфер...\n",
              "3      [воспитатель, детей, дошкольного, возраста, ос...\n",
              "4      [воспитатель, детей, дошкольного, возраста, ос...\n",
              "                             ...                        \n",
              "125    [электромонтажник, электрик, работает, в, комм...\n",
              "126    [электромонтажник, электрик, работает, в, комм...\n",
              "127    [эстетическая, косметология, именование, работ...\n",
              "128    [эстетическая, косметология, именование, работ...\n",
              "129    [профессия, ювелира, прежде, всего, связана, с...\n",
              "Name: all, Length: 130, dtype: object"
            ]
          },
          "metadata": {},
          "execution_count": 253
        }
      ]
    },
    {
      "cell_type": "code",
      "source": [
        "#используем стемминг\n",
        "from nltk.stem import PorterStemmer\n",
        "stemmer = PorterStemmer()\n",
        "x_text = x_text.apply(lambda x: [stemmer.stem(y) for y in x])\n",
        "x_text"
      ],
      "metadata": {
        "colab": {
          "base_uri": "https://localhost:8080/"
        },
        "id": "EVGfEMQfavVD",
        "outputId": "7991e237-c928-4b25-e8e8-b81ad82fcb6d"
      },
      "execution_count": 254,
      "outputs": [
        {
          "output_type": "execute_result",
          "data": {
            "text/plain": [
              "0      [разработка, компьютерных, игр, и, мультимедий...\n",
              "1      [смартфоны, продаются, и, продажи, только, рас...\n",
              "2      [высококвалифицированные, специалисты, в, сфер...\n",
              "3      [воспитатель, детей, дошкольного, возраста, ос...\n",
              "4      [воспитатель, детей, дошкольного, возраста, ос...\n",
              "                             ...                        \n",
              "125    [электромонтажник, электрик, работает, в, комм...\n",
              "126    [электромонтажник, электрик, работает, в, комм...\n",
              "127    [эстетическая, косметология, именование, работ...\n",
              "128    [эстетическая, косметология, именование, работ...\n",
              "129    [профессия, ювелира, прежде, всего, связана, с...\n",
              "Name: all, Length: 130, dtype: object"
            ]
          },
          "metadata": {},
          "execution_count": 254
        }
      ]
    },
    {
      "cell_type": "code",
      "source": [
        "classter = pd.read_excel('Claster.xlsx')\n",
        "training_values = classter['Num_Cluster']\n",
        "training_values"
      ],
      "metadata": {
        "colab": {
          "base_uri": "https://localhost:8080/"
        },
        "id": "svw5nbBSnO8e",
        "outputId": "7a2efffa-5dc2-4e5b-8ccb-753b9a1285a4"
      },
      "execution_count": 255,
      "outputs": [
        {
          "output_type": "execute_result",
          "data": {
            "text/plain": [
              "0      2\n",
              "1      2\n",
              "2      1\n",
              "3      1\n",
              "4      1\n",
              "      ..\n",
              "125    1\n",
              "126    1\n",
              "127    1\n",
              "128    1\n",
              "129    3\n",
              "Name: Num_Cluster, Length: 130, dtype: int64"
            ]
          },
          "metadata": {},
          "execution_count": 255
        }
      ]
    },
    {
      "cell_type": "code",
      "source": [
        "# #мешок слов\n",
        "# from sklearn.feature_extraction.text import CountVectorizer\n",
        "# from sklearn.feature_extraction.text import TfidfTransformer\n",
        "# x_text = x_text.apply(lambda x: ' '.join(x))\n",
        "# count_vect = CountVectorizer()\n",
        "# counts = count_vect.fit_transform(x_text)"
      ],
      "metadata": {
        "id": "CnrinO8Xmuva"
      },
      "execution_count": 227,
      "outputs": []
    },
    {
      "cell_type": "code",
      "source": [
        "counts.shape"
      ],
      "metadata": {
        "colab": {
          "base_uri": "https://localhost:8080/"
        },
        "id": "cSjGXbl7JQV2",
        "outputId": "090805a7-a2e7-4c28-cf73-f539f77b5c38"
      },
      "execution_count": 228,
      "outputs": [
        {
          "output_type": "execute_result",
          "data": {
            "text/plain": [
              "(130, 14097)"
            ]
          },
          "metadata": {},
          "execution_count": 228
        }
      ]
    },
    {
      "cell_type": "code",
      "source": [
        "from sklearn.model_selection import train_test_split\n",
        "X_train, X_test, y_train, y_test = train_test_split(train[['all']], training_values, test_size=0.25)"
      ],
      "metadata": {
        "id": "YUSyiWaH7hV3"
      },
      "execution_count": 264,
      "outputs": []
    },
    {
      "cell_type": "code",
      "source": [
        "from sklearn.feature_extraction.text import TfidfVectorizer"
      ],
      "metadata": {
        "id": "l2CUpdGf8aK3"
      },
      "execution_count": 265,
      "outputs": []
    },
    {
      "cell_type": "code",
      "source": [
        "tf_idf = TfidfVectorizer()\n",
        "tf_idf.fit(X_train['all'])"
      ],
      "metadata": {
        "colab": {
          "base_uri": "https://localhost:8080/"
        },
        "id": "s9i06SGy8c_9",
        "outputId": "0a15f4e9-11b8-4f81-bd42-84b0aaeb3123"
      },
      "execution_count": 266,
      "outputs": [
        {
          "output_type": "execute_result",
          "data": {
            "text/plain": [
              "TfidfVectorizer()"
            ]
          },
          "metadata": {},
          "execution_count": 266
        }
      ]
    },
    {
      "cell_type": "code",
      "source": [
        "X_train_tf_idf = tf_idf.transform(X_train['all'])\n",
        "X_test_tf_idf = tf_idf.transform(X_test['all'])"
      ],
      "metadata": {
        "id": "BJfSOIAN8Szy"
      },
      "execution_count": 267,
      "outputs": []
    },
    {
      "cell_type": "code",
      "source": [
        "X_train_tf_idf.shape\n"
      ],
      "metadata": {
        "colab": {
          "base_uri": "https://localhost:8080/"
        },
        "id": "Mj4wJ2at86MV",
        "outputId": "22467942-350a-48fd-d20b-a2c2edecc4c2"
      },
      "execution_count": 271,
      "outputs": [
        {
          "output_type": "execute_result",
          "data": {
            "text/plain": [
              "(97, 12125)"
            ]
          },
          "metadata": {},
          "execution_count": 271
        }
      ]
    },
    {
      "cell_type": "code",
      "source": [
        "X_test_tf_idf.shape"
      ],
      "metadata": {
        "colab": {
          "base_uri": "https://localhost:8080/"
        },
        "id": "50C_uaHo-6vy",
        "outputId": "7d7e9878-be4c-472b-c781-7f339f7cdbae"
      },
      "execution_count": 272,
      "outputs": [
        {
          "output_type": "execute_result",
          "data": {
            "text/plain": [
              "(33, 12125)"
            ]
          },
          "metadata": {},
          "execution_count": 272
        }
      ]
    },
    {
      "cell_type": "code",
      "source": [
        "from sklearn.linear_model import SGDClassifier\n",
        "from sklearn.metrics import accuracy_score"
      ],
      "metadata": {
        "id": "4rmyQrkF785u"
      },
      "execution_count": 238,
      "outputs": []
    },
    {
      "cell_type": "code",
      "source": [
        "\n",
        "clf = SGDClassifier()\n",
        "clf.fit(X_train_tf_idf, y_train)\n",
        "\n"
      ],
      "metadata": {
        "colab": {
          "base_uri": "https://localhost:8080/"
        },
        "id": "fKEglxar7_E4",
        "outputId": "e1c3676c-695b-4c1f-871b-650ff0335279"
      },
      "execution_count": 273,
      "outputs": [
        {
          "output_type": "execute_result",
          "data": {
            "text/plain": [
              "SGDClassifier()"
            ]
          },
          "metadata": {},
          "execution_count": 273
        }
      ]
    },
    {
      "cell_type": "code",
      "source": [
        "accuracy_score(y_test, clf.predict(X_test_tf_idf))"
      ],
      "metadata": {
        "colab": {
          "base_uri": "https://localhost:8080/"
        },
        "id": "KZGICOLm_H5b",
        "outputId": "8e7ce207-9856-49b3-92cb-69430ee141eb"
      },
      "execution_count": 274,
      "outputs": [
        {
          "output_type": "execute_result",
          "data": {
            "text/plain": [
              "0.9696969696969697"
            ]
          },
          "metadata": {},
          "execution_count": 274
        }
      ]
    },
    {
      "cell_type": "code",
      "source": [
        "test = pd.read_csv('test1.csv', names = ['class'])\n",
        "test "
      ],
      "metadata": {
        "colab": {
          "base_uri": "https://localhost:8080/",
          "height": 81
        },
        "id": "03w4eqw2AvFH",
        "outputId": "8f71f172-af0e-463f-9166-463187e29caf"
      },
      "execution_count": 278,
      "outputs": [
        {
          "output_type": "execute_result",
          "data": {
            "text/plain": [
              "                                               class\n",
              "0  креативность умение легко находить решения в н..."
            ],
            "text/html": [
              "\n",
              "  <div id=\"df-11686c13-01bc-4cdc-b919-1277f886cbc9\">\n",
              "    <div class=\"colab-df-container\">\n",
              "      <div>\n",
              "<style scoped>\n",
              "    .dataframe tbody tr th:only-of-type {\n",
              "        vertical-align: middle;\n",
              "    }\n",
              "\n",
              "    .dataframe tbody tr th {\n",
              "        vertical-align: top;\n",
              "    }\n",
              "\n",
              "    .dataframe thead th {\n",
              "        text-align: right;\n",
              "    }\n",
              "</style>\n",
              "<table border=\"1\" class=\"dataframe\">\n",
              "  <thead>\n",
              "    <tr style=\"text-align: right;\">\n",
              "      <th></th>\n",
              "      <th>class</th>\n",
              "    </tr>\n",
              "  </thead>\n",
              "  <tbody>\n",
              "    <tr>\n",
              "      <th>0</th>\n",
              "      <td>креативность умение легко находить решения в н...</td>\n",
              "    </tr>\n",
              "  </tbody>\n",
              "</table>\n",
              "</div>\n",
              "      <button class=\"colab-df-convert\" onclick=\"convertToInteractive('df-11686c13-01bc-4cdc-b919-1277f886cbc9')\"\n",
              "              title=\"Convert this dataframe to an interactive table.\"\n",
              "              style=\"display:none;\">\n",
              "        \n",
              "  <svg xmlns=\"http://www.w3.org/2000/svg\" height=\"24px\"viewBox=\"0 0 24 24\"\n",
              "       width=\"24px\">\n",
              "    <path d=\"M0 0h24v24H0V0z\" fill=\"none\"/>\n",
              "    <path d=\"M18.56 5.44l.94 2.06.94-2.06 2.06-.94-2.06-.94-.94-2.06-.94 2.06-2.06.94zm-11 1L8.5 8.5l.94-2.06 2.06-.94-2.06-.94L8.5 2.5l-.94 2.06-2.06.94zm10 10l.94 2.06.94-2.06 2.06-.94-2.06-.94-.94-2.06-.94 2.06-2.06.94z\"/><path d=\"M17.41 7.96l-1.37-1.37c-.4-.4-.92-.59-1.43-.59-.52 0-1.04.2-1.43.59L10.3 9.45l-7.72 7.72c-.78.78-.78 2.05 0 2.83L4 21.41c.39.39.9.59 1.41.59.51 0 1.02-.2 1.41-.59l7.78-7.78 2.81-2.81c.8-.78.8-2.07 0-2.86zM5.41 20L4 18.59l7.72-7.72 1.47 1.35L5.41 20z\"/>\n",
              "  </svg>\n",
              "      </button>\n",
              "      \n",
              "  <style>\n",
              "    .colab-df-container {\n",
              "      display:flex;\n",
              "      flex-wrap:wrap;\n",
              "      gap: 12px;\n",
              "    }\n",
              "\n",
              "    .colab-df-convert {\n",
              "      background-color: #E8F0FE;\n",
              "      border: none;\n",
              "      border-radius: 50%;\n",
              "      cursor: pointer;\n",
              "      display: none;\n",
              "      fill: #1967D2;\n",
              "      height: 32px;\n",
              "      padding: 0 0 0 0;\n",
              "      width: 32px;\n",
              "    }\n",
              "\n",
              "    .colab-df-convert:hover {\n",
              "      background-color: #E2EBFA;\n",
              "      box-shadow: 0px 1px 2px rgba(60, 64, 67, 0.3), 0px 1px 3px 1px rgba(60, 64, 67, 0.15);\n",
              "      fill: #174EA6;\n",
              "    }\n",
              "\n",
              "    [theme=dark] .colab-df-convert {\n",
              "      background-color: #3B4455;\n",
              "      fill: #D2E3FC;\n",
              "    }\n",
              "\n",
              "    [theme=dark] .colab-df-convert:hover {\n",
              "      background-color: #434B5C;\n",
              "      box-shadow: 0px 1px 3px 1px rgba(0, 0, 0, 0.15);\n",
              "      filter: drop-shadow(0px 1px 2px rgba(0, 0, 0, 0.3));\n",
              "      fill: #FFFFFF;\n",
              "    }\n",
              "  </style>\n",
              "\n",
              "      <script>\n",
              "        const buttonEl =\n",
              "          document.querySelector('#df-11686c13-01bc-4cdc-b919-1277f886cbc9 button.colab-df-convert');\n",
              "        buttonEl.style.display =\n",
              "          google.colab.kernel.accessAllowed ? 'block' : 'none';\n",
              "\n",
              "        async function convertToInteractive(key) {\n",
              "          const element = document.querySelector('#df-11686c13-01bc-4cdc-b919-1277f886cbc9');\n",
              "          const dataTable =\n",
              "            await google.colab.kernel.invokeFunction('convertToInteractive',\n",
              "                                                     [key], {});\n",
              "          if (!dataTable) return;\n",
              "\n",
              "          const docLinkHtml = 'Like what you see? Visit the ' +\n",
              "            '<a target=\"_blank\" href=https://colab.research.google.com/notebooks/data_table.ipynb>data table notebook</a>'\n",
              "            + ' to learn more about interactive tables.';\n",
              "          element.innerHTML = '';\n",
              "          dataTable['output_type'] = 'display_data';\n",
              "          await google.colab.output.renderOutput(dataTable, element);\n",
              "          const docLink = document.createElement('div');\n",
              "          docLink.innerHTML = docLinkHtml;\n",
              "          element.appendChild(docLink);\n",
              "        }\n",
              "      </script>\n",
              "    </div>\n",
              "  </div>\n",
              "  "
            ]
          },
          "metadata": {},
          "execution_count": 278
        }
      ]
    },
    {
      "cell_type": "code",
      "source": [
        "tf_idf = TfidfVectorizer()\n",
        "tf_idf.fit(train['all'])"
      ],
      "metadata": {
        "colab": {
          "base_uri": "https://localhost:8080/"
        },
        "id": "6EZZF1jJBJCN",
        "outputId": "d8572733-76bf-4473-d830-7d8be8a8d7e7"
      },
      "execution_count": 279,
      "outputs": [
        {
          "output_type": "execute_result",
          "data": {
            "text/plain": [
              "TfidfVectorizer()"
            ]
          },
          "metadata": {},
          "execution_count": 279
        }
      ]
    },
    {
      "cell_type": "code",
      "source": [
        "Train_tf_idf = tf_idf.transform(train['all'])\n",
        "Test_tf_idf = tf_idf.transform(test['class'])"
      ],
      "metadata": {
        "id": "9Wf1QsdfBPQA"
      },
      "execution_count": 280,
      "outputs": []
    },
    {
      "cell_type": "code",
      "source": [
        "clf = SGDClassifier()\n",
        "clf.fit(Train_tf_idf, training_values)"
      ],
      "metadata": {
        "colab": {
          "base_uri": "https://localhost:8080/"
        },
        "id": "X2vlfA88Bxd1",
        "outputId": "6b3508b1-d766-4db3-d888-d3db44d04e05"
      },
      "execution_count": 281,
      "outputs": [
        {
          "output_type": "execute_result",
          "data": {
            "text/plain": [
              "SGDClassifier()"
            ]
          },
          "metadata": {},
          "execution_count": 281
        }
      ]
    },
    {
      "cell_type": "code",
      "source": [
        "Answer = pd.DataFrame(columns=['навык','Class'])"
      ],
      "metadata": {
        "id": "azF7euTCCBam"
      },
      "execution_count": 287,
      "outputs": []
    },
    {
      "cell_type": "code",
      "source": [
        "Answer['навык'] = test['class']\n",
        "Answer['Class'] = clf.predict(Test_tf_idf)"
      ],
      "metadata": {
        "id": "qB30hXdDCDc8"
      },
      "execution_count": 291,
      "outputs": []
    },
    {
      "cell_type": "code",
      "source": [
        "Answer"
      ],
      "metadata": {
        "colab": {
          "base_uri": "https://localhost:8080/",
          "height": 81
        },
        "id": "MSD_Wm8aCQ6x",
        "outputId": "c58c37d9-05f0-4283-a3a2-db582e433f63"
      },
      "execution_count": 292,
      "outputs": [
        {
          "output_type": "execute_result",
          "data": {
            "text/plain": [
              "                                               навык  Class\n",
              "0  креативность умение легко находить решения в н...      2"
            ],
            "text/html": [
              "\n",
              "  <div id=\"df-5dd5ea23-7508-408d-aefa-4d24a69c28f3\">\n",
              "    <div class=\"colab-df-container\">\n",
              "      <div>\n",
              "<style scoped>\n",
              "    .dataframe tbody tr th:only-of-type {\n",
              "        vertical-align: middle;\n",
              "    }\n",
              "\n",
              "    .dataframe tbody tr th {\n",
              "        vertical-align: top;\n",
              "    }\n",
              "\n",
              "    .dataframe thead th {\n",
              "        text-align: right;\n",
              "    }\n",
              "</style>\n",
              "<table border=\"1\" class=\"dataframe\">\n",
              "  <thead>\n",
              "    <tr style=\"text-align: right;\">\n",
              "      <th></th>\n",
              "      <th>навык</th>\n",
              "      <th>Class</th>\n",
              "    </tr>\n",
              "  </thead>\n",
              "  <tbody>\n",
              "    <tr>\n",
              "      <th>0</th>\n",
              "      <td>креативность умение легко находить решения в н...</td>\n",
              "      <td>2</td>\n",
              "    </tr>\n",
              "  </tbody>\n",
              "</table>\n",
              "</div>\n",
              "      <button class=\"colab-df-convert\" onclick=\"convertToInteractive('df-5dd5ea23-7508-408d-aefa-4d24a69c28f3')\"\n",
              "              title=\"Convert this dataframe to an interactive table.\"\n",
              "              style=\"display:none;\">\n",
              "        \n",
              "  <svg xmlns=\"http://www.w3.org/2000/svg\" height=\"24px\"viewBox=\"0 0 24 24\"\n",
              "       width=\"24px\">\n",
              "    <path d=\"M0 0h24v24H0V0z\" fill=\"none\"/>\n",
              "    <path d=\"M18.56 5.44l.94 2.06.94-2.06 2.06-.94-2.06-.94-.94-2.06-.94 2.06-2.06.94zm-11 1L8.5 8.5l.94-2.06 2.06-.94-2.06-.94L8.5 2.5l-.94 2.06-2.06.94zm10 10l.94 2.06.94-2.06 2.06-.94-2.06-.94-.94-2.06-.94 2.06-2.06.94z\"/><path d=\"M17.41 7.96l-1.37-1.37c-.4-.4-.92-.59-1.43-.59-.52 0-1.04.2-1.43.59L10.3 9.45l-7.72 7.72c-.78.78-.78 2.05 0 2.83L4 21.41c.39.39.9.59 1.41.59.51 0 1.02-.2 1.41-.59l7.78-7.78 2.81-2.81c.8-.78.8-2.07 0-2.86zM5.41 20L4 18.59l7.72-7.72 1.47 1.35L5.41 20z\"/>\n",
              "  </svg>\n",
              "      </button>\n",
              "      \n",
              "  <style>\n",
              "    .colab-df-container {\n",
              "      display:flex;\n",
              "      flex-wrap:wrap;\n",
              "      gap: 12px;\n",
              "    }\n",
              "\n",
              "    .colab-df-convert {\n",
              "      background-color: #E8F0FE;\n",
              "      border: none;\n",
              "      border-radius: 50%;\n",
              "      cursor: pointer;\n",
              "      display: none;\n",
              "      fill: #1967D2;\n",
              "      height: 32px;\n",
              "      padding: 0 0 0 0;\n",
              "      width: 32px;\n",
              "    }\n",
              "\n",
              "    .colab-df-convert:hover {\n",
              "      background-color: #E2EBFA;\n",
              "      box-shadow: 0px 1px 2px rgba(60, 64, 67, 0.3), 0px 1px 3px 1px rgba(60, 64, 67, 0.15);\n",
              "      fill: #174EA6;\n",
              "    }\n",
              "\n",
              "    [theme=dark] .colab-df-convert {\n",
              "      background-color: #3B4455;\n",
              "      fill: #D2E3FC;\n",
              "    }\n",
              "\n",
              "    [theme=dark] .colab-df-convert:hover {\n",
              "      background-color: #434B5C;\n",
              "      box-shadow: 0px 1px 3px 1px rgba(0, 0, 0, 0.15);\n",
              "      filter: drop-shadow(0px 1px 2px rgba(0, 0, 0, 0.3));\n",
              "      fill: #FFFFFF;\n",
              "    }\n",
              "  </style>\n",
              "\n",
              "      <script>\n",
              "        const buttonEl =\n",
              "          document.querySelector('#df-5dd5ea23-7508-408d-aefa-4d24a69c28f3 button.colab-df-convert');\n",
              "        buttonEl.style.display =\n",
              "          google.colab.kernel.accessAllowed ? 'block' : 'none';\n",
              "\n",
              "        async function convertToInteractive(key) {\n",
              "          const element = document.querySelector('#df-5dd5ea23-7508-408d-aefa-4d24a69c28f3');\n",
              "          const dataTable =\n",
              "            await google.colab.kernel.invokeFunction('convertToInteractive',\n",
              "                                                     [key], {});\n",
              "          if (!dataTable) return;\n",
              "\n",
              "          const docLinkHtml = 'Like what you see? Visit the ' +\n",
              "            '<a target=\"_blank\" href=https://colab.research.google.com/notebooks/data_table.ipynb>data table notebook</a>'\n",
              "            + ' to learn more about interactive tables.';\n",
              "          element.innerHTML = '';\n",
              "          dataTable['output_type'] = 'display_data';\n",
              "          await google.colab.output.renderOutput(dataTable, element);\n",
              "          const docLink = document.createElement('div');\n",
              "          docLink.innerHTML = docLinkHtml;\n",
              "          element.appendChild(docLink);\n",
              "        }\n",
              "      </script>\n",
              "    </div>\n",
              "  </div>\n",
              "  "
            ]
          },
          "metadata": {},
          "execution_count": 292
        }
      ]
    }
  ]
}